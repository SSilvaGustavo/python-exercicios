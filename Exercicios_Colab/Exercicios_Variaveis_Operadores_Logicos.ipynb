{
  "nbformat": 4,
  "nbformat_minor": 0,
  "metadata": {
    "colab": {
      "name": "Exercicios_Variaveis_Operadores_Logicos.ipynb",
      "provenance": [],
      "collapsed_sections": [],
      "include_colab_link": true
    },
    "kernelspec": {
      "name": "python3",
      "display_name": "Python 3"
    },
    "language_info": {
      "name": "python"
    }
  },
  "cells": [
    {
      "cell_type": "markdown",
      "metadata": {
        "id": "view-in-github",
        "colab_type": "text"
      },
      "source": [
        "<a href=\"https://colab.research.google.com/github/SSilvaGustavo/exercicios-python/blob/main/Exercicios_Variaveis_Operadores_Logicos.ipynb\" target=\"_parent\"><img src=\"https://colab.research.google.com/assets/colab-badge.svg\" alt=\"Open In Colab\"/></a>"
      ]
    },
    {
      "cell_type": "markdown",
      "metadata": {
        "id": "n_igYcmdk6U9"
      },
      "source": [
        "# **Exercícios para treinar:**"
      ]
    },
    {
      "cell_type": "markdown",
      "metadata": {
        "id": "rRyZR6ZAlEHU"
      },
      "source": [
        "1. **Frase na tela** - Implemente um programa que escreve na tela a frase \"O primeiro programa a gente nunca esquece!\".\n",
        "\n",
        "2. **Etiqueta** - Elabore um programa que escreve seu nome completo na primeira linha, seu endereço na segunda e o CEP e telefone na terceira.\n",
        "\n",
        "3. **Letra de música** - Faça um programa que mostre na tela uma letra de música que você gosta (proibido letras do Justin Bieber).\n",
        "\n",
        "4. **Tabela de notas** - Você foi contratado ou contratada por uma escola pra fazer o sistema de boletim dos alunos. Como primeiro passo, escreva um programa que produza a seguinte saída:\n",
        "```\n",
        "ALUNO (A)  NOTA\n",
        "=========  ====\n",
        "ALINE      9.0\n",
        "MÁRIO      DEZ\n",
        "SÉRGIO     4.5\n",
        "SHIRLEY    7.0\n",
        "```\n",
        "\n",
        "5. **Menu** - Elabore um programa que mostre o seguinte menu na tela:\n",
        "```\n",
        "Cadastro de Clientes\n",
        "0 - Fim\n",
        "1 - Inclui\n",
        "2 - Altera\n",
        "3 - Exclui\n",
        "4 - Consulta\n",
        "Digite uma opção: \n",
        "```\n",
        "Ao digitar um valor para a opção, o programa exibe qual opção foi escolhida.\n",
        "```\n",
        "Você escolheu a opção '0'.\n",
        "```\n",
        "\n",
        "6. **Calculadora de Dano** - Escreva um programa que receba dois valores digitados pelo usuário:\n",
        "  - Quantidade de vida de um monstro (entre 10 e 50);\n",
        "  - Valor do ataque do jogador por turno (entre 5 e 10);\n",
        "  - Baseado nos valores digitados, exiba a quantidade de turnos que o jogador irá demorar para conseguir derrotar o monstro.\n",
        "  - ```\n",
        "    O jogador irá derrotar o monstro em 8 turnos.\n",
        "    ```"
      ]
    },
    {
      "cell_type": "code",
      "metadata": {
        "id": "vrKoea-38B-Q",
        "colab": {
          "base_uri": "https://localhost:8080/"
        },
        "outputId": "46923f90-2c36-45d8-b17d-0ad6b447e7b1"
      },
      "source": [
        "#EX 1 - Frase na tela - Implemente um programa que escreve na tela a frase \"O primeiro programa a gente nunca esquece!\".\n",
        "\n",
        "print(\"O primeiro programa a gente nunca esquece!\")"
      ],
      "execution_count": null,
      "outputs": [
        {
          "output_type": "stream",
          "text": [
            "O primeiro programa a gente nunca esquece!\n"
          ],
          "name": "stdout"
        }
      ]
    },
    {
      "cell_type": "code",
      "metadata": {
        "colab": {
          "base_uri": "https://localhost:8080/"
        },
        "id": "p5qY6RH98OcQ",
        "outputId": "99edc436-c2b1-46d0-c4ff-33a76675cfa9"
      },
      "source": [
        "#EX 2 - Etiqueta - Elabore um programa que escreve seu nome completo na primeira linha, seu endereço na segunda e o CEP e telefone na terceira.\n",
        "\n",
        "nome = \"Gustavo Souza\"\n",
        "endereco = \"Acesso Pintassilgo Rosa\"\n",
        "cep = \"04864-240\"\n",
        "\n",
        "print(f'Nome: {nome}\\nEndereço: {endereco}\\nCEP: {cep}')"
      ],
      "execution_count": null,
      "outputs": [
        {
          "output_type": "stream",
          "text": [
            "Nome: Gustavo Souza\n",
            "Endereço: Acesso Pintassilgo Rosa\n",
            "CEP: 04864-240\n"
          ],
          "name": "stdout"
        }
      ]
    },
    {
      "cell_type": "code",
      "metadata": {
        "colab": {
          "base_uri": "https://localhost:8080/"
        },
        "id": "aNbq96rN824Z",
        "outputId": "f2cd67d3-3fb3-4430-80f3-db6372a16bca"
      },
      "source": [
        "#EX 3 - Letra de música - Faça um programa que mostre na tela uma letra de música que você gosta (proibido letras do Justin Bieber).\n",
        "\n",
        "print(f'I get those goosebumps every time, yeah, you come around, yeah\\nYou ease my mind, you make everything feel fine\\nWorried \\'bout those comments, I\\'m way too numb, yeah\\nIt\\'s way too dumb, yeah\\n')\n",
        "print(\"goosebumps, Travis Scott\")"
      ],
      "execution_count": null,
      "outputs": [
        {
          "output_type": "stream",
          "text": [
            "I get those goosebumps every time, yeah, you come around, yeah\n",
            "You ease my mind, you make everything feel fine\n",
            "Worried 'bout those comments, I'm way too numb, yeah\n",
            "It's way too dumb, yeah\n",
            "\n",
            "goosebumps, Travis Scott\n"
          ],
          "name": "stdout"
        }
      ]
    },
    {
      "cell_type": "code",
      "metadata": {
        "colab": {
          "base_uri": "https://localhost:8080/"
        },
        "id": "c7XKhcmA-Nfc",
        "outputId": "d504a09f-bed8-4724-e61c-e3b20884de6a"
      },
      "source": [
        "#EX 4 - Tabela de notas - Você foi contratado ou contratada por uma escola pra fazer o sistema de boletim dos alunos. Como primeiro passo, escreva um programa que produza a seguinte saída:\n",
        "\n",
        "print(\"ALUNO (A)  NOTA\\n\")\n",
        "print(\"=========  ====\\n\")\n",
        "print(\"ALINE      9.0\\n\")\n",
        "print(\"MÁRIO      DEZ\\n\")\n",
        "print(\"SÉRGIO     4.5\\n\")\n",
        "print(\"SHIRLEY    7.0\\n\")"
      ],
      "execution_count": null,
      "outputs": [
        {
          "output_type": "stream",
          "text": [
            "ALUNO (A)  NOTA\n",
            "\n",
            "=========  ====\n",
            "\n",
            "ALINE      9.0\n",
            "\n",
            "MÁRIO      DEZ\n",
            "\n",
            "SÉRGIO     4.5\n",
            "\n",
            "SHIRLEY    7.0\n",
            "\n"
          ],
          "name": "stdout"
        }
      ]
    },
    {
      "cell_type": "code",
      "metadata": {
        "colab": {
          "base_uri": "https://localhost:8080/"
        },
        "id": "Oypmywmg-77C",
        "outputId": "92127a15-cba2-4c5c-8f66-9897271607fb"
      },
      "source": [
        "#EX 5 - Elabore um programa que mostre o seguinte menu na tela:\n",
        "#Ao digitar um valor para a opção, o programa exibe qual opção foi escolhida.\n",
        "\n",
        "menu = (input(\"0 - Fim\\n1 - Inclui\\n2 - Altera\\n3 - Exclui\\n4 - Consulta\\nDigite uma opção: \"))\n",
        "\n",
        "print(f'\\nVocê escolheu a opção: \\'{menu}\\'.')"
      ],
      "execution_count": null,
      "outputs": [
        {
          "output_type": "stream",
          "text": [
            "0 - Fim\n",
            "1 - Inclui\n",
            "2 - Altera\n",
            "3 - Exclui\n",
            "4 - Consulta\n",
            "Digite uma opção: 9\n",
            "\n",
            "Você escolheu a opção: '9'.\n"
          ],
          "name": "stdout"
        }
      ]
    },
    {
      "cell_type": "code",
      "metadata": {
        "colab": {
          "base_uri": "https://localhost:8080/"
        },
        "id": "hoHkJ_7CASeF",
        "outputId": "edcdc41a-c899-4eb4-cc19-3a3149d83119"
      },
      "source": [
        "''' EX6 - Escreva um programa que receba dois valores digitados pelo usuário:\n",
        "    Quantidade de vida de um monstro (entre 10 e 50);\n",
        "    Valor do ataque do jogador por turno (entre 5 e 10);\n",
        "    Baseado nos valores digitados, exiba a quantidade de turnos que o jogador irá demorar para conseguir derrotar o monstro.'''\n",
        "\n",
        "monstro = int(input(\"Quantidade de vida do monstro (Entre 10 e 50): \"))\n",
        "player = int(input(\"Valor do ataque do jogador por turno (entre 5 e 10): \"))\n",
        "\n",
        "turnos = monstro // player\n",
        "\n",
        "print(f'\\nO jogador irá derrotar o monstro em: {turnos} turnos')"
      ],
      "execution_count": null,
      "outputs": [
        {
          "output_type": "stream",
          "text": [
            "Quantidade de vida do monstro (Entre 10 e 50): 10\n",
            "Valor do ataque do jogador por turno (entre 5 e 10): 5\n",
            "\n",
            "O jogador irá derrotar o monstro em: 2 turnos\n"
          ],
          "name": "stdout"
        }
      ]
    },
    {
      "cell_type": "markdown",
      "metadata": {
        "id": "HqgnPaCGqMPB"
      },
      "source": [
        "# Exercícios"
      ]
    },
    {
      "cell_type": "markdown",
      "metadata": {
        "id": "U-ltrv0jqPBq"
      },
      "source": [
        "## #01 - E os 10% do garçom?**\n",
        "\n",
        "- Defina uma variável para o valor de uma refeição que custou R$ 42,54;\n",
        "\n",
        "- Defina uma variável para o valor da taxa de serviço que é de 10%;\n",
        "\n",
        "- Defina uma variável que calcula o valor total da conta e exiba-o no console com essa formatação: R$ XXXX.XX."
      ]
    },
    {
      "cell_type": "code",
      "metadata": {
        "id": "jbcSv4NFkB1C",
        "colab": {
          "base_uri": "https://localhost:8080/"
        },
        "outputId": "1790e4c9-a924-4696-c810-c404ca813ae2"
      },
      "source": [
        "ref = 42.54\n",
        "taxa = 42.54*10/100\n",
        "\n",
        "total = ref + taxa\n",
        "\n",
        "print(f'R${total:.2f}')\n"
      ],
      "execution_count": null,
      "outputs": [
        {
          "output_type": "stream",
          "text": [
            "R$46.79\n"
          ],
          "name": "stdout"
        }
      ]
    },
    {
      "cell_type": "markdown",
      "metadata": {
        "id": "JR3-KgsTqR41"
      },
      "source": [
        "## #02 - Qual o valor do troco?\n",
        "\n",
        "*   Defina uma variável para o valor de uma compra que custou R$100,98;\n",
        "\n",
        "*   Defina uma variável para o valor que o cliente pagou R$150,00;\n",
        "\n",
        "*   Defina uma variável que calcula o valor do troco e exiba-o no console com o valor final arredondado."
      ]
    },
    {
      "cell_type": "code",
      "metadata": {
        "id": "hBf3kE_pksAI",
        "colab": {
          "base_uri": "https://localhost:8080/"
        },
        "outputId": "6d97ed50-d7e9-42cc-f096-92a43cdae02b"
      },
      "source": [
        "compra = 100.98\n",
        "pag = 150.00\n",
        "\n",
        "troco = pag - compra\n",
        "\n",
        "print(f'{troco:.1f}')"
      ],
      "execution_count": null,
      "outputs": [
        {
          "output_type": "stream",
          "text": [
            "49.0\n"
          ],
          "name": "stdout"
        }
      ]
    },
    {
      "cell_type": "markdown",
      "metadata": {
        "id": "2Uu84Uqtkunt"
      },
      "source": [
        "## #03 - Você está na flor da idade?\n",
        "\n",
        "*  Defina uma variável para o valor do ano do nascimento;\n",
        "*  Defina uma variável para o valor do ano atual;\n",
        "*  Defina uma variável que calcula o valor final da idade da pessoa;\n",
        "*  Exiba uma mensagem final dizendo a idade da pessoa e a mensagem \"Você está na flor da idade\"."
      ]
    },
    {
      "cell_type": "code",
      "metadata": {
        "id": "kyXxJV3nk14Z",
        "colab": {
          "base_uri": "https://localhost:8080/"
        },
        "outputId": "29d571df-352a-4109-8180-8f4f44c0e8ed"
      },
      "source": [
        "nasc = int(input(\"Digite seu ano de nascimento: \"))\n",
        "ano = int(input(\"Digite o ano atual: \"))\n",
        "idade = nasc - ano\n",
        "\n",
        "print(\"Você está na flor da idade\")"
      ],
      "execution_count": null,
      "outputs": [
        {
          "output_type": "stream",
          "text": [
            "Digite seu ano de nascimento: 2001\n",
            "Digite o ano atual: 2021\n",
            "Você está na flor da idade\n"
          ],
          "name": "stdout"
        }
      ]
    },
    {
      "cell_type": "markdown",
      "metadata": {
        "id": "w1T7s2q0p-pt"
      },
      "source": [
        "# Mini projetos"
      ]
    },
    {
      "cell_type": "markdown",
      "metadata": {
        "id": "meUw7PTwqC-Y"
      },
      "source": [
        "## #01 - Conversor de moedas\n",
        "\n",
        "Crie um programa que solicite um um valor em real ao usuário e converta esse valor, para:\n",
        "\n",
        "- DOLAR,\n",
        "- EURO,\n",
        "- LIBRA ESTERLINA,\n",
        "- DÓLAR CANADENSE,\n",
        "- PESO ARGENTINO,\n",
        "- PESO CHILENO.\n",
        "\n",
        "Para esse exercício você precisará realizar uma pesquisa para saber a cotação de cada moeda em real. Mostrar o resultado no formato $ XXXX.XX"
      ]
    },
    {
      "cell_type": "code",
      "metadata": {
        "id": "q481snSClrXe"
      },
      "source": [
        "real = int(input(\"Valor em real: R$\"))\n",
        "\n",
        "dolar = real / 5.04\n",
        "euro = real / 6.13\n",
        "libraEsterlina = real / 7.13\n",
        "dolarCanadense = real / 4.16\n",
        "pesoArgentino = real / 0.053\n",
        "pesoChileno = real / 0.0070\n",
        "\n",
        "print(\"\\nCONVERSÃO\")\n",
        "print(f'Dolar: {dolar:.2f}')\n",
        "print(f'Euro: {euro:.2f}')\n",
        "print(f'Libra Esterlina: {libraEsterlina:.2f}')\n",
        "print(f'Dolar Canadense: {dolarCanadense:.2f}')\n",
        "print(f'Peso Argentino: {pesoArgentino:.2f}')\n",
        "print(f'Peso Chileno: {pesoChileno:.2f}')"
      ],
      "execution_count": null,
      "outputs": []
    },
    {
      "cell_type": "markdown",
      "metadata": {
        "id": "KK9PIcJ4qIF9"
      },
      "source": [
        "## #02 - Calculadora de aumento de aluguel\n",
        "\n",
        "Vamos construir um programa que irá calcular o aumento anual do seu aluguel em duas partes:\n",
        "\n",
        "### Parte 1\n",
        "A sua calculadora vai receber o `valor do aluguel` e calcular o aumento baseado no `IGPM de 31%`. A calculadora deve apresentar o aluguel reajustado no formato `R$ XXXX.XX`\n",
        "\n",
        "**Exemplo:**\n",
        "```\n",
        "Valor do aluguel = 1000\n",
        "Valor do aluguel reajustado = R$ 1310,00"
      ]
    },
    {
      "cell_type": "code",
      "metadata": {
        "id": "VdjHa9Csl0Lg",
        "colab": {
          "base_uri": "https://localhost:8080/"
        },
        "outputId": "49466a13-9fa6-4671-e07d-ea0fa7a78ac4"
      },
      "source": [
        "aluguel = int(input(\"Valor do aluguel: \"))\n",
        "igpm = aluguel*31/100\n",
        "\n",
        "calc = aluguel + igpm\n",
        "\n",
        "print(f'Valor do aluguel = R${aluguel:.2f} Valor do aluguel reajustado = R${calc:.2f}')"
      ],
      "execution_count": null,
      "outputs": [
        {
          "output_type": "stream",
          "text": [
            "Valor do aluguel: 1000\n",
            "Valor do aluguel = R$1000.00 Valor do aluguel reajustado = R$1310.00\n"
          ],
          "name": "stdout"
        }
      ]
    },
    {
      "cell_type": "markdown",
      "metadata": {
        "id": "lKTwnuNMl8rP"
      },
      "source": [
        "### Parte 2\n",
        "Agora, altere sua calculadora para receber além do `valor do aluguel`, o percentual do reajuste no formato `XX%`.  \n",
        "\n",
        "**Dica:** Descubra uma forma de transformar o percentual recebido em um número para efetuar o cálculo.\n",
        "\n",
        "**Exemplo:**\n",
        "```\n",
        "Valor do aluguel = 1000\n",
        "Percentual do reajuste = 31%\n",
        "Valor do aluguel reajustado = R% 1310,00\n",
        "```"
      ]
    },
    {
      "cell_type": "code",
      "metadata": {
        "id": "aw2Zk_9KmA85",
        "colab": {
          "base_uri": "https://localhost:8080/"
        },
        "outputId": "38bba19d-cfe7-41ac-f63f-4c0f92c0bd0b"
      },
      "source": [
        "aluguel = int(input(\"Valor do aluguel: R$\"))\n",
        "taxa = int(input(\"Valor do percentual do reajuste (NÃO COLOCAR %): \"))\n",
        "calc = aluguel*taxa/100\n",
        "\n",
        "reajuste = aluguel + calc\n",
        "\n",
        "print(f'\\nValor do aluguel = R${aluguel:.2f}')\n",
        "print(f'Percentual do reajuste = {taxa}%')\n",
        "print(f'Valor do aluguel reajustado = R${reajuste:.2f}')"
      ],
      "execution_count": null,
      "outputs": [
        {
          "output_type": "stream",
          "text": [
            "Valor do aluguel: R$1000\n",
            "Valor do percentual do reajuste (NÃO COLOCAR %): 31\n",
            "\n",
            "Valor do aluguel = R$1000.00\n",
            "Percentual do reajuste = 31%\n",
            "Valor do aluguel reajustado = R$1310.00\n"
          ],
          "name": "stdout"
        }
      ]
    }
  ]
}