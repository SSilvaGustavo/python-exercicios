{
  "nbformat": 4,
  "nbformat_minor": 0,
  "metadata": {
    "colab": {
      "name": "Exercicios_String.ipynb",
      "provenance": [],
      "collapsed_sections": [],
      "include_colab_link": true
    },
    "kernelspec": {
      "name": "python3",
      "display_name": "Python 3"
    },
    "language_info": {
      "name": "python"
    }
  },
  "cells": [
    {
      "cell_type": "markdown",
      "metadata": {
        "id": "view-in-github",
        "colab_type": "text"
      },
      "source": [
        "<a href=\"https://colab.research.google.com/github/SSilvaGustavo/exercicios-python/blob/main/Exercicios_String.ipynb\" target=\"_parent\"><img src=\"https://colab.research.google.com/assets/colab-badge.svg\" alt=\"Open In Colab\"/></a>"
      ]
    },
    {
      "cell_type": "markdown",
      "metadata": {
        "id": "wbV2YraddQOF"
      },
      "source": [
        "01 - Considere a string A = \"Os limites só existem se você os deixar existir.(goku)\".\n",
        "\n",
        "Que fatia corresponde a (goku)?"
      ]
    },
    {
      "cell_type": "code",
      "metadata": {
        "colab": {
          "base_uri": "https://localhost:8080/"
        },
        "id": "o10ETUQ5eCl3",
        "outputId": "5e6eaa2f-95f5-4aab-9e2c-31eb3ee4d627"
      },
      "source": [
        "a = \"Os limites só existem se você os deixar existir.(goku)\"\n",
        "\n",
        "#print(a.find(\"goku\")) #Informa qual a localização da palavra goku\n",
        "\n",
        "print(a[49:-1])"
      ],
      "execution_count": null,
      "outputs": [
        {
          "output_type": "stream",
          "text": [
            "49\n",
            "goku\n"
          ],
          "name": "stdout"
        }
      ]
    },
    {
      "cell_type": "markdown",
      "metadata": {
        "id": "2hA2Tw6sdR95"
      },
      "source": [
        "02 - Escreva um programa que solicite uma frase ao usuário e escreva a frase toda em maiúscula e sem espaços em branco."
      ]
    },
    {
      "cell_type": "code",
      "metadata": {
        "colab": {
          "base_uri": "https://localhost:8080/"
        },
        "id": "Ak4F5jfCerJr",
        "outputId": "22379038-5f8f-40ee-ebab-3e42466851a2"
      },
      "source": [
        "frase = input(\"Digite uma frase toda em maiúscula: \")\n",
        "\n",
        "print(frase.replace(\" \",\"\").lower())"
      ],
      "execution_count": null,
      "outputs": [
        {
          "output_type": "stream",
          "text": [
            "Digite uma frase toda em maiúscula: MAIUSCULO COM ESPAÇOS\n",
            "maiusculocomespaços\n"
          ],
          "name": "stdout"
        }
      ]
    },
    {
      "cell_type": "markdown",
      "metadata": {
        "id": "EntkYdeSdT_j"
      },
      "source": [
        "03 - Elabore um programa que recebe o seu nome, endereço e hobby e mostra cada uma das informações da seguinte forma:\n",
        "- Nome -> Letra maiúscula\n",
        "- Endereço -> Letra minúscula\n",
        "- Hobby -> Primeira letra maiúscula\n",
        "\n",
        "**Exemplo Entrada:**\n",
        "```\n",
        "Nome: bruno fabri\n",
        "Endereço: Rua ABC\n",
        "Hobby: jogar cs\n",
        "```\n",
        "\n",
        "**Exemplo Saída:**\n",
        "```\n",
        "Nome: BRUNO FABRI\n",
        "Endereço: rua abc\n",
        "Hobby: Jogar cs\n",
        "```"
      ]
    },
    {
      "cell_type": "code",
      "metadata": {
        "colab": {
          "base_uri": "https://localhost:8080/"
        },
        "id": "Xl5sIBWuf1hG",
        "outputId": "498c0d33-2d29-46e4-e43d-0cc565c56f7b"
      },
      "source": [
        "nome = input(\"Digite seu nome: \")\n",
        "endereco = input(\"Digite seu endereco: \")\n",
        "hobby = input(\"Fale um de seus Hobbies: \")\n",
        "\n",
        "print(f'\\nNome: {nome.upper()}')\n",
        "print(f'Endereço: {endereco.lower()}')\n",
        "print(f'Hobby: {hobby.capitalize()}')"
      ],
      "execution_count": null,
      "outputs": [
        {
          "output_type": "stream",
          "text": [
            "Digite seu nome: gustavo\n",
            "Digite seu endereco: ACESSO PINTASSILGO ROSA\n",
            "Fale um de seus Hobbies: jogar LoL\n",
            "\n",
            "Nome: GUSTAVO\n",
            "Endereço: acesso pintassilgo rosa\n",
            "Hobby: Jogar lol\n"
          ],
          "name": "stdout"
        }
      ]
    }
  ]
}