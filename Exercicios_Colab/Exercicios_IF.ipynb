{
  "nbformat": 4,
  "nbformat_minor": 0,
  "metadata": {
    "colab": {
      "name": "Exercicios_IF.ipynb",
      "provenance": [],
      "collapsed_sections": [],
      "include_colab_link": true
    },
    "kernelspec": {
      "name": "python3",
      "display_name": "Python 3"
    },
    "language_info": {
      "name": "python"
    }
  },
  "cells": [
    {
      "cell_type": "markdown",
      "metadata": {
        "id": "view-in-github",
        "colab_type": "text"
      },
      "source": [
        "<a href=\"https://colab.research.google.com/github/SSilvaGustavo/exercicios-python/blob/main/Exercicios_IF.ipynb\" target=\"_parent\"><img src=\"https://colab.research.google.com/assets/colab-badge.svg\" alt=\"Open In Colab\"/></a>"
      ]
    },
    {
      "cell_type": "markdown",
      "metadata": {
        "id": "SW-cnnj3AAlE"
      },
      "source": [
        "## Exercício 01\n",
        "\n",
        "Faça um programa que pergunte ao usuário um número e valide se o numero é par ou impar:\n",
        "\n",
        "* Crie uma variável para receber o valor, com conversão para int\n",
        "* Para um número ser par, a divisão dele por 2 tem que dar resto 0"
      ]
    },
    {
      "cell_type": "code",
      "metadata": {
        "id": "ZeuCDPZQFT9T"
      },
      "source": [
        "pergunta = int(input(\"Digite um número: \"))\n",
        "\n",
        "num = pergunta % 2\n",
        "\n",
        "if num == 0:\n",
        "  print(\"Seu numero é par\")\n",
        "else:\n",
        "  print(\"Seu numero é impar\")"
      ],
      "execution_count": null,
      "outputs": []
    },
    {
      "cell_type": "markdown",
      "metadata": {
        "id": "jXVUBuN3DcU-"
      },
      "source": [
        "## Exercício 02\n",
        "\n",
        "> Parte 1\n",
        "\n",
        "Faça um script que peça um valor e mostre na tela se o valor é positivo ou negativo.\n",
        "\n",
        "> Parte 2\n",
        "\n",
        "Agora implemente a funcionalidade de não aceitar o número 0, no input. (esse vai além do explicado até agora)"
      ]
    },
    {
      "cell_type": "code",
      "metadata": {
        "id": "bsM4V6SeHwJr"
      },
      "source": [
        "num = int(input(\"Digite um número: \"))\n",
        "\n",
        "if num > 0:\n",
        "  print(\"Seu numero é positivo\")\n",
        "else: \n",
        "  print(\"Seu numero é negativo\")"
      ],
      "execution_count": null,
      "outputs": []
    },
    {
      "cell_type": "code",
      "metadata": {
        "id": "XMV5tiUMefJU"
      },
      "source": [
        "num = int(input(\"Digite um número: \"))\n",
        "num2 = 0\n",
        "\n",
        "if not num != 0:\n",
        "  print(\"Número Invalido\")\n",
        "elif num > 0:\n",
        "  print(\"Número Positivo\")\n",
        "else:\n",
        "  print(\"Número Negativo\")"
      ],
      "execution_count": null,
      "outputs": []
    },
    {
      "cell_type": "markdown",
      "metadata": {
        "id": "90mUizLXOKd3"
      },
      "source": [
        "## Exercício 03\n",
        "\n",
        "Faça um programa que peça dois números, imprima o maior deles ou imprima \"Numeros iguais\" se os números forem iguais."
      ]
    },
    {
      "cell_type": "code",
      "metadata": {
        "id": "7yXB2kfUVYuD"
      },
      "source": [
        "#EXERCICIO 3\n",
        "\n",
        "n1 = int(input(\"Digite um número: \"))\n",
        "n2 = int(input(\"Digite um número: \"))\n",
        "\n",
        "if n1 == n2:\n",
        "  print(\"Números iguais\")\n",
        "elif n1 > n2:\n",
        "  print(f'{n1} é o maior número entre os dois números')\n",
        "else:\n",
        "  print(f'{n2} é o maior número entre os dois números')"
      ],
      "execution_count": null,
      "outputs": []
    },
    {
      "cell_type": "markdown",
      "metadata": {
        "id": "9BATv7tsOWOI"
      },
      "source": [
        "## Exercício 04\n",
        "\n",
        "Crie um programa que verifique se uma letra digitada é \"F\" ou \"M\". Conforme a letra, escrever: F - Feminino, M - Masculino, caso escreva outra letra: Sexo Biológico Inválido."
      ]
    },
    {
      "cell_type": "code",
      "metadata": {
        "id": "pRm8kyI7Wnp4",
        "colab": {
          "base_uri": "https://localhost:8080/"
        },
        "outputId": "861ccb9b-d839-4943-d214-bf241be60d0a"
      },
      "source": [
        "sexo = input(\"Qual seu sexo biologico [F/M]: \").strip().upper()[0]\n",
        "\n",
        "if sexo == \"F\":\n",
        "  print(\"FEMININO\")\n",
        "elif sexo == \"M\":\n",
        "  print(\"MASCULINO\")\n",
        "else:\n",
        "  print(\"Sexo Biológico Inválido\")"
      ],
      "execution_count": null,
      "outputs": [
        {
          "output_type": "stream",
          "text": [
            "Qual seu sexo biologico [F/M]: Beatriz\n",
            "Sexo Biológico Inválido\n"
          ],
          "name": "stdout"
        }
      ]
    },
    {
      "cell_type": "markdown",
      "metadata": {
        "id": "WX2j2ITtY3G5"
      },
      "source": [
        "### Exercício 05\n",
        "\n",
        "Crie um programa em Python que peça a nota do aluno, que deve ser um float entre 0.00 e 10.0\n",
        "\n",
        "* Se a nota for menor que 6.0, deve exibir a nota F.\n",
        "\n",
        "* Se a nota for de 6.0 até 7.0, deve exibir a nota D.\n",
        "\n",
        "* Se a nota for entre 7.0 e 8.0, deve exibir a nota C.\n",
        "\n",
        "* Se a nota for entre 8.0 e 9.0, deve exibir a nota B.\n",
        "\n",
        "* Por fim, se for entre 9.0 e 10.0, deve exibir um belo de um A."
      ]
    },
    {
      "cell_type": "code",
      "metadata": {
        "id": "4CjqLlFWY5Z-",
        "colab": {
          "base_uri": "https://localhost:8080/"
        },
        "outputId": "6592fe80-8d96-4dd3-874c-c5556772cde2"
      },
      "source": [
        "nota = float(input(\"Digite a nota: \"))\n",
        "\n",
        "if nota < 6.0:\n",
        "  print(\"Sua nota é F\")\n",
        "elif nota >= 6.0 and nota <= 7.0:\n",
        "  print(\"Sua nota é D\")\n",
        "elif nota > 7.0 and nota <= 8.0:\n",
        "  print(\"Sua nota é C\")\n",
        "elif nota > 8.0 and nota <= 9.0:\n",
        "  print(\"Sua nota é B\")\n",
        "elif nota > 9.0 and nota <= 10.0:\n",
        "  print(\"Sua nota é A\")\n",
        "else: \n",
        "  print(\"Nota invalida\")"
      ],
      "execution_count": null,
      "outputs": [
        {
          "output_type": "stream",
          "text": [
            "Digite a nota: 11\n",
            "Nota invalida\n"
          ],
          "name": "stdout"
        }
      ]
    },
    {
      "cell_type": "markdown",
      "metadata": {
        "id": "xep4W_T-s-Ra"
      },
      "source": [
        "# *Mini Projetos*"
      ]
    },
    {
      "cell_type": "markdown",
      "metadata": {
        "id": "4YbMlSEZG7UM"
      },
      "source": [
        "## **PROJETO 01**\n",
        "\n",
        "*   Escreva um programa que receba uma string digitada pelo usuário;\n",
        "*   Caso a string seja \"medieval\", exiba no console \"espada\";\n",
        "*   Caso contrário, se a string for \"futurista\", exiba no console \"sabre de luz\";\n",
        "*   Caso contrário, exiba no console \"Tente novamente\""
      ]
    },
    {
      "cell_type": "code",
      "metadata": {
        "id": "tn9QH5pVG8Rq",
        "colab": {
          "base_uri": "https://localhost:8080/"
        },
        "outputId": "51bd40c8-31f1-4162-b5c0-e7724c72b872"
      },
      "source": [
        "# Resposta:\n",
        "escolha = input(\"Escolha umas das 2 opções: [MEDIEVAL] ou [FUTURISTA]: \").strip().upper()\n",
        "\n",
        "if escolha == \"MEDIEVAL\":\n",
        " print(\"\\n                        ESPADA!\\n\")\n",
        " print('''          /)\n",
        "         //\n",
        ".-------| |--------------------------------------------.__\n",
        "|WMWMWMW| |>>>>>>>>>>>>>>>>>>>>>>>>>>>>>>>>>>>>>>>>>>>>>>>:>\n",
        "`-------| |--------------------------------------------'^^\n",
        "         \\\\\n",
        "          \\))''')\n",
        "\n",
        "elif escolha == \"FUTURISTA\":\n",
        "  print(\"\\n                        SABRE DE LUZ!\\n\")\n",
        "  print('''        />\n",
        "        /<\n",
        "[\\\\\\\\\\\\(O):::<======================================-\n",
        "        \\<\n",
        "         \\>''')\n",
        "else:\n",
        "  print(\"ESCOLHA INVALIDA, TENTE NOVAMENTE\")"
      ],
      "execution_count": null,
      "outputs": [
        {
          "output_type": "stream",
          "text": [
            "Escolha umas das 2 opções: [MEDIEVAL] ou [FUTURISTA]: SADFSD\n",
            "ESCOLHA INVALIDA, TENTE NOVAMENTE\n"
          ],
          "name": "stdout"
        }
      ]
    },
    {
      "cell_type": "markdown",
      "metadata": {
        "id": "zUGk1OiNHDik"
      },
      "source": [
        "## **PROJETO 02**\n",
        "\n",
        "* Escreva um programa que receba um ataque de espada ou sabre digitada pelo usuário;\n",
        "\n",
        "* Caso o ataque seja \"espada\", exiba no console \"VOCÊ AINDA NÃO MATOU O CHEFÃO\";\n",
        "\n",
        "* Caso contrário, se o ataque for \"sabre\", exiba no console \"VOCÊ DERROTOU O CHEFÃO COM O SABRE DE LUZ\";\n",
        "\n",
        "* Caso contrário, exiba no console \"ATAQUE NOVAMENTE\""
      ]
    },
    {
      "cell_type": "code",
      "metadata": {
        "id": "eNZokIIOHHkp",
        "colab": {
          "base_uri": "https://localhost:8080/"
        },
        "outputId": "863ec3c0-c1a5-4898-8a94-fbba4174d746"
      },
      "source": [
        "# Resposta:\n",
        "ataque = input(\"ATAQUE COM SUA ARMA ESCOLHIDA, DIGITE [SABRE] OU [ESPADA]: \").strip().lower()\n",
        "\n",
        "if ataque == \"sabre\":\n",
        "  print(\"VOCÊ DERROTOU O CHEFÃO COM O SABRE DE LUZ\")\n",
        "elif ataque == \"espada\":\n",
        "  print(\"VOCÊ AINDA NÃO MATOU O CHEFÃO\")\n",
        "else:\n",
        "  print(\"ESCOLHA INVALIDA, ATAQUE NOVAMENTE!\")"
      ],
      "execution_count": null,
      "outputs": [
        {
          "output_type": "stream",
          "text": [
            "ATAQUE COM SUA ARMA ESCOLHIDA, DIGITE [SABRE] OU [ESPADA]:           ESPADA\n",
            "VOCÊ AINDA NÃO MATOU O CHEFÃO\n"
          ],
          "name": "stdout"
        }
      ]
    },
    {
      "cell_type": "markdown",
      "metadata": {
        "id": "NRhLAMa6ZfqU"
      },
      "source": [
        "## **DESAFIO 01**\n",
        "\n",
        "**Reajuste salarial**\n",
        "\n",
        "As empresas @.com resolveram dar um aumento de salário aos seus colaboradores e lhe contrataram para desenvolver o programa que calculará os reajustes.\n",
        "\n",
        "Faça um programa que recebe o salário de um colaborador e o reajuste segundo o seguinte critério, baseado no salário atual:\n",
        "* salários até R$ 280,00 (incluindo) : aumento de 20%\n",
        "\n",
        "* salários entre R\\$ 280,00 e R$ 700,00 : aumento de 15%\n",
        "\n",
        "* salários entre R\\$ 700,00 e R$ 1500,00 : aumento de 10%\n",
        "\n",
        "* salários de R$ 1500,00 em diante : aumento de 5% \n",
        "\n",
        "Após o aumento ser realizado, informe na tela:\n",
        "* o salário antes do reajuste;\n",
        "\n",
        "* o percentual de aumento aplicado;\n",
        "\n",
        "* o valor do aumento;\n",
        "\n",
        "* o novo salário, após o aumento.\""
      ]
    },
    {
      "cell_type": "code",
      "metadata": {
        "id": "VpC5oZINZXzt",
        "colab": {
          "base_uri": "https://localhost:8080/"
        },
        "outputId": "19dca9ac-c24f-4635-f553-8607acd3dab7"
      },
      "source": [
        "salario = float(input(\"Digite o salario: \"))\n",
        "\n",
        "if salario < 280.00:\n",
        "  aumento = 20\n",
        "  novo = salario*aumento/100\n",
        "  print(f'Salario ANTES do reajuste: R${salario}')\n",
        "  print(\"Aumento de 20% encima do salario atual\")\n",
        "  print(f'Valor do aumento: R${novo}')\n",
        "  print(f'Novo salario APOS o reajuste: R${salario + novo}')\n",
        "\n",
        "elif salario >= 280.00 and salario <= 700.00:\n",
        "  aumento = 15\n",
        "  novo = salario*aumento/100\n",
        "  print(f'Salario ANTES do reajuste: R${salario}')\n",
        "  print(\"Aumento de 15% encima do salario atual\")\n",
        "  print(f'Valor do aumento: R${novo}')\n",
        "  print(f'Novo salario APOS o reajuste: R${salario + novo}')\n",
        "\n",
        "elif salario > 700.00 and salario <= 1500.00:\n",
        "  aumento = 10\n",
        "  novo = salario*aumento/100\n",
        "  print(f'Salario ANTES do reajuste: R${salario}')\n",
        "  print(\"Aumento de 10% encima do salario atual\")\n",
        "  print(f'Valor do aumento: R${novo}')\n",
        "  print(f'Novo salario APOS o reajuste: R${salario + novo}')\n",
        "\n",
        "elif salario > 1500.00:\n",
        "  aumento = 5\n",
        "  novo = salario*aumento/100\n",
        "  print(f'Salario ANTES do reajuste: R${salario}')\n",
        "  print(\"Aumento de 5% encima do salario atual\")\n",
        "  print(f'Valor do aumento: R${novo}')\n",
        "  print(f'Novo salario APOS o reajuste: R${salario + novo}')"
      ],
      "execution_count": null,
      "outputs": [
        {
          "output_type": "stream",
          "text": [
            "Digite o salario: 1600\n",
            "Salario ANTES do reajuste: R$1600.0\n",
            "Aumento de 5% encima do salario atual\n",
            "Valor do aumento: R$80.0\n",
            "Novo salario APOS o reajuste: R$1680.0\n"
          ],
          "name": "stdout"
        }
      ]
    },
    {
      "cell_type": "markdown",
      "metadata": {
        "id": "HvThpbU4aBGy"
      },
      "source": [
        "## **DESAFIO 02**\n",
        "\n",
        "**Jogo da adivinhação**\n",
        "\n",
        "Escreva um programa que faça o computador “pensar” em um número inteiro entre 0 e 10 e peça para o usuário tentar descobrir qual foi o número escolhido pelo computador. O programa deverá escrever na tela se o usuário venceu ou perdeu."
      ]
    },
    {
      "cell_type": "code",
      "metadata": {
        "id": "TVeHZbyQZIzO",
        "colab": {
          "base_uri": "https://localhost:8080/"
        },
        "outputId": "6332ace3-6b4a-4080-82b7-f9c81d5c188c"
      },
      "source": [
        "print('''            JOGO DA ADIVINHAÇÃO\n",
        "        ======= ======= ==========\n",
        "DESCUBRA QUAL NÚMERO O COMPUTADOR ESTA PENSANDO!\n",
        "''')\n",
        "\n",
        "print(\"Por favor digite um número de 0 a 10 e tente adivinhar qual número o computador está pensando\")\n",
        "numero  = int(input(\"NÚMERO: \"))\n",
        "\n",
        "print('''        Loading\n",
        "        Loading…\n",
        "        █▒▒▒▒▒▒▒▒▒\n",
        "        10%\n",
        "        ███▒▒▒▒▒▒▒\n",
        "        30%\n",
        "        █████▒▒▒▒▒\n",
        "        50%\n",
        "        ██████████\n",
        "        100%''')\n",
        "\n",
        "if numero == 7:\n",
        "  print(\"PARABENS VOCÊ DESCOBRIU 🥳 🥳 🥳\")\n",
        "else:\n",
        "  print(\"POXA VIDA VOCÊ ERROU, TENTE NOVAMENTE 🧐 🧐 🧐\")"
      ],
      "execution_count": null,
      "outputs": [
        {
          "output_type": "stream",
          "text": [
            "            JOGO DA ADIVINHAÇÃO\n",
            "        ======= ======= ==========\n",
            "DESCUBRA QUAL NÚMERO O COMPUTADOR ESTA PENSANDO!\n",
            "\n",
            "Por favor digite um número de 0 a 10 e tente adivinhar qual número o computador está pensando\n",
            "NÚMERO: 4\n",
            "        Loading\n",
            "        Loading…\n",
            "        █▒▒▒▒▒▒▒▒▒\n",
            "        10%\n",
            "        ███▒▒▒▒▒▒▒\n",
            "        30%\n",
            "        █████▒▒▒▒▒\n",
            "        50%\n",
            "        ██████████\n",
            "        100%\n",
            "POXA VIDA VOCÊ ERROU, TENTE NOVAMENTE 🧐 🧐 🧐\n"
          ],
          "name": "stdout"
        }
      ]
    },
    {
      "cell_type": "markdown",
      "metadata": {
        "id": "mjLFAUooaOH1"
      },
      "source": [
        "## **Desafio 03**\n",
        "\n",
        "**Caixa eletrônico**\n",
        "\n",
        "Faça um Programa para um caixa eletrônico. O programa deverá perguntar ao usuário a valor do saque e depois informar quantas notas de cada valor serão fornecidas. As notas disponíveis serão as de 1, 5, 10, 50 e 100 reais. O valor mínimo é de 10 reais e o máximo de 600 reais. O programa não deve se preocupar com a quantidade de notas existentes na máquina.\n",
        "\n",
        "* Exemplo 1: Para sacar a quantia de 256 reais, o programa fornece duas notas de 100, uma nota de 50, uma nota de 5 e uma nota de 1;\n",
        "\n",
        "* Exemplo 2: Para sacar a quantia de 399 reais, o programa fornece três notas de 100, uma nota de 50, quatro notas de 10, uma nota de 5 e quatro notas de 1.\n",
        "\n"
      ]
    },
    {
      "cell_type": "code",
      "metadata": {
        "id": "sH65bTx-ZMLh",
        "colab": {
          "base_uri": "https://localhost:8080/"
        },
        "outputId": "5d2a79c6-a03e-446a-a1cd-dafb5bfc0526"
      },
      "source": [
        "saque = int(input(\"Digite o valor de saque: [MINIMO R$10][MAXIMO R$600]: \"))\n",
        "\n",
        "if saque >=10 and saque <=600:\n",
        "  nota100 = int(saque//100)\n",
        "  saque = saque % 100\n",
        "\n",
        "  nota50 = int(saque//50)\n",
        "  saque = saque % 50\n",
        "\n",
        "  nota10 = int(saque//10)\n",
        "  saque = saque % 10\n",
        "\n",
        "  nota5 = int(saque//5)\n",
        "  saque = saque % 5\n",
        "\n",
        "  nota1 = saque\n",
        "\n",
        "  print(f'Notas de R$100 {nota100} notas')\n",
        "  print(f'Notas de R$50  {nota50} notas')\n",
        "  print(f'Notas de R$10 {nota10} notas')\n",
        "  print(f'Notas de R$5 {nota5} notas')\n",
        "  print(f'Notas de R$1 {nota1} notas')\n",
        "else:\n",
        "    print(\"Não foi possivel realizar o saque, tente novamente\")"
      ],
      "execution_count": null,
      "outputs": [
        {
          "output_type": "stream",
          "text": [
            "Digite o valor de saque: [MINIMO R$10][MAXIMO R$600]: 482\n",
            "Notas de R$100 4 notas\n",
            "Notas de R$50  1 notas\n",
            "Notas de R$10 3 notas\n",
            "Notas de R$5 0 notas\n",
            "Notas de R$1 2 notas\n"
          ],
          "name": "stdout"
        }
      ]
    }
  ]
}